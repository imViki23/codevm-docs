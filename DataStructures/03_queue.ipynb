{
 "cells": [
  {
   "cell_type": "markdown",
   "metadata": {},
   "source": [
    "# Queue\n",
    "\n",
    "## Big O notation\n",
    "\n",
    "| **Operation** | **Description**                                   | **Time Complexity** |\n",
    "|---------------|---------------------------------------------------|---------------------|\n",
    "| Enqueue       | Adds an element to the rear of the queue          | O(1)                |\n",
    "| Dequeue       | Removes an element from the front of the queue    | O(1)                |\n",
    "| Peek          | Returns the front element without removing it     | O(1)                |\n",
    "| Size          | Returns the number of elements in the queue       | O(1)                |\n",
    "| IsEmpty       | Checks if the queue is empty                      | O(1)                |"
   ]
  },
  {
   "cell_type": "markdown",
   "metadata": {},
   "source": [
    "## Code"
   ]
  },
  {
   "cell_type": "code",
   "execution_count": 42,
   "metadata": {},
   "outputs": [],
   "source": [
    "class Node:\n",
    "    \"\"\"Node class for linked list representation of the queue.\"\"\"\n",
    "    def __init__(self, data):\n",
    "        self.data = data\n",
    "        self.next = None"
   ]
  },
  {
   "cell_type": "code",
   "execution_count": 43,
   "metadata": {},
   "outputs": [],
   "source": [
    "class Queue:\n",
    "\n",
    "    def __init__(self):\n",
    "        self.head = None\n",
    "        self.tail = None\n",
    "        self.size = 0\n",
    "\n",
    "    def enqueue(self, data):\n",
    "        self.size = self.size + 1\n",
    "        if self.head == None:\n",
    "            self.head = Node(data)\n",
    "            return\n",
    "        if self.tail == None:\n",
    "            self.tail = Node(data)\n",
    "            self.head.next = self.tail\n",
    "            return\n",
    "        self.tail.next = Node(data)\n",
    "        self.tail = self.tail.next\n",
    "\n",
    "    def dequeue(self):\n",
    "        if self.head == None:\n",
    "            raise IndexError(\"Illegal state: The object is not initialized.\")\n",
    "        self.size = self.size - 1\n",
    "        data = self.head.data\n",
    "        self.head = self.head.next\n",
    "        return data\n",
    "\n",
    "    def peek(self):\n",
    "        if (self.head == None):\n",
    "            raise IndexError(\"Illegal state: The object is not initialized.\")\n",
    "        return self.head.data\n",
    "\n",
    "    def is_empty(self):\n",
    "        return self.size == 0\n",
    "\n",
    "    def get_size(self):\n",
    "        return self.size\n"
   ]
  },
  {
   "cell_type": "markdown",
   "metadata": {},
   "source": [
    "## Unit test"
   ]
  },
  {
   "cell_type": "code",
   "execution_count": 44,
   "metadata": {},
   "outputs": [
    {
     "name": "stderr",
     "output_type": "stream",
     "text": [
      "test_dequeue (__main__.TestQueue)\n",
      "Test dequeue operation. ... ok\n",
      "test_dequeue_empty (__main__.TestQueue)\n",
      "Test dequeuing from an empty queue raises IndexError. ... ok\n",
      "test_enqueue (__main__.TestQueue)\n",
      "Test enqueue operation. ... ok\n",
      "test_get_size (__main__.TestQueue)\n",
      "Test get_size method. ... ok\n",
      "test_is_empty (__main__.TestQueue)\n",
      "Test is_empty method. ... "
     ]
    },
    {
     "name": "stderr",
     "output_type": "stream",
     "text": [
      "ok\n",
      "test_peek (__main__.TestQueue)\n",
      "Test peek operation. ... ok\n",
      "test_peek_empty (__main__.TestQueue)\n",
      "Test peeking from an empty queue raises IndexError. ... ok\n",
      "\n",
      "----------------------------------------------------------------------\n",
      "Ran 7 tests in 0.019s\n",
      "\n",
      "OK\n"
     ]
    }
   ],
   "source": [
    "import unittest\n",
    "\n",
    "class TestQueue(unittest.TestCase):\n",
    "\n",
    "    def setUp(self):\n",
    "        \"\"\"Create a new queue before each test.\"\"\"\n",
    "        self.queue = Queue()\n",
    "\n",
    "    def test_enqueue(self):\n",
    "        \"\"\"Test enqueue operation.\"\"\"\n",
    "        self.queue.enqueue(1)\n",
    "        self.queue.enqueue(2)\n",
    "        self.assertEqual(self.queue.get_size(), 2)\n",
    "        self.assertEqual(self.queue.peek(), 1)\n",
    "\n",
    "    def test_dequeue(self):\n",
    "        \"\"\"Test dequeue operation.\"\"\"\n",
    "        self.queue.enqueue(1)\n",
    "        self.queue.enqueue(2)\n",
    "        self.assertEqual(self.queue.dequeue(), 1)\n",
    "        self.assertEqual(self.queue.get_size(), 1)\n",
    "        self.assertEqual(self.queue.peek(), 2)\n",
    "\n",
    "    def test_dequeue_empty(self):\n",
    "        \"\"\"Test dequeuing from an empty queue raises IndexError.\"\"\"\n",
    "        with self.assertRaises(IndexError):\n",
    "            self.queue.dequeue()\n",
    "\n",
    "    def test_peek(self):\n",
    "        \"\"\"Test peek operation.\"\"\"\n",
    "        self.queue.enqueue(1)\n",
    "        self.assertEqual(self.queue.peek(), 1)\n",
    "\n",
    "    def test_peek_empty(self):\n",
    "        \"\"\"Test peeking from an empty queue raises IndexError.\"\"\"\n",
    "        with self.assertRaises(IndexError):\n",
    "            self.queue.peek()\n",
    "\n",
    "    def test_is_empty(self):\n",
    "        \"\"\"Test is_empty method.\"\"\"\n",
    "        self.assertTrue(self.queue.is_empty())\n",
    "        self.queue.enqueue(1)\n",
    "        self.assertFalse(self.queue.is_empty())\n",
    "        self.queue.dequeue()\n",
    "        self.assertTrue(self.queue.is_empty())\n",
    "\n",
    "    def test_get_size(self):\n",
    "        \"\"\"Test get_size method.\"\"\"\n",
    "        self.assertEqual(self.queue.get_size(), 0)\n",
    "        self.queue.enqueue(1)\n",
    "        self.queue.enqueue(2)\n",
    "        self.assertEqual(self.queue.get_size(), 2)\n",
    "        self.queue.dequeue()\n",
    "        self.assertEqual(self.queue.get_size(), 1)\n",
    "\n",
    "if __name__ == '__main__':\n",
    "    unittest.main(argv=[''], verbosity=2, exit=False)\n"
   ]
  }
 ],
 "metadata": {
  "kernelspec": {
   "display_name": "CodeVM",
   "language": "python",
   "name": "python3"
  },
  "language_info": {
   "codemirror_mode": {
    "name": "ipython",
    "version": 3
   },
   "file_extension": ".py",
   "mimetype": "text/x-python",
   "name": "python",
   "nbconvert_exporter": "python",
   "pygments_lexer": "ipython3",
   "version": "3.10.15"
  }
 },
 "nbformat": 4,
 "nbformat_minor": 2
}
